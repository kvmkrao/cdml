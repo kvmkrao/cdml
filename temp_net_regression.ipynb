{
  "nbformat": 4,
  "nbformat_minor": 0,
  "metadata": {
    "colab": {
      "name": "temp_net_regression.ipynb",
      "provenance": [],
      "collapsed_sections": [],
      "authorship_tag": "ABX9TyMjU2pkuQDqaPxh6cMGpFAZ",
      "include_colab_link": true
    },
    "kernelspec": {
      "name": "python3",
      "display_name": "Python 3"
    },
    "language_info": {
      "name": "python"
    }
  },
  "cells": [
    {
      "cell_type": "markdown",
      "metadata": {
        "id": "view-in-github",
        "colab_type": "text"
      },
      "source": [
        "<a href=\"https://colab.research.google.com/github/kvmkrao/cdml/blob/master/temp_net_regression.ipynb\" target=\"_parent\"><img src=\"https://colab.research.google.com/assets/colab-badge.svg\" alt=\"Open In Colab\"/></a>"
      ]
    },
    {
      "cell_type": "code",
      "source": [
        "#https://en.wikipedia.org/wiki/Thermal_expansion\n",
        "import numpy as np\n",
        "import tensorflow as tf\n",
        "import matplotlib.pyplot as plt\n",
        "from sklearn.linear_model import LinearRegression\n",
        "import pandas as pd "
      ],
      "metadata": {
        "id": "oXpefjD6Wi8I"
      },
      "execution_count": 1,
      "outputs": []
    },
    {
      "cell_type": "code",
      "source": [
        "COLUMNS =  ['Linear','Volume','Class']\n",
        "FEATURES = ['Linear','Volume']\n",
        "LABEL = \"Class\"\n",
        "def get_input_fn(data_set, num_epochs=None, shuffle=True):\n",
        "  return tf.compat.v1.estimator.inputs.pandas_input_fn(\n",
        "      x=pd.DataFrame({k: data_set[k].values for k in FEATURES}),\n",
        "      y=pd.Series(data_set[LABEL].values),\n",
        "      num_epochs=num_epochs,\n",
        "      shuffle=shuffle)"
      ],
      "metadata": {
        "id": "0Uy4xEfjWiZH"
      },
      "execution_count": 2,
      "outputs": []
    },
    {
      "cell_type": "code",
      "execution_count": 3,
      "metadata": {
        "id": "1XYalSkNkGko"
      },
      "outputs": [],
      "source": [
        "def sigmoid(x):\n",
        "  # Sigmoid activation function: f(x) = 1 / (1 + e^(-x))\n",
        "  return 1 / (1 + np.exp(-x))\n",
        "\n",
        "def deriv_sigmoid(x):\n",
        "  # Derivative of sigmoid: f'(x) = f(x) * (1 - f(x))\n",
        "  fx = sigmoid(x)\n",
        "  return fx * (1 - fx)\n",
        "\n",
        "def mse_loss(y_true, y_pred):\n",
        "  # y_true and y_pred are numpy arrays of the same length.\n",
        "  return ((y_true - y_pred) ** 2).mean()\n",
        "\n",
        "class OurNeuralNetwork:\n",
        "  '''\n",
        "  A neural network with:\n",
        "    - 2 inputs\n",
        "    - a hidden layer with 2 neurons (h1, h2)\n",
        "    - an output layer with 1 neuron (o1)\n",
        "    The code below is intended to be simple and educational, NOT optimal.\n",
        "    Real neural net code looks nothing like this.\n",
        "  '''\n",
        "  def __init__(self):\n",
        "    # Weights\n",
        "    self.w1 = np.random.normal()\n",
        "    self.w2 = np.random.normal()\n",
        "    self.w3 = np.random.normal()\n",
        "    self.w4 = np.random.normal()\n",
        "    self.w5 = np.random.normal()\n",
        "    self.w6 = np.random.normal()\n",
        "\n",
        "    # Biases\n",
        "    self.b1 = np.random.normal()\n",
        "    self.b2 = np.random.normal()\n",
        "    self.b3 = np.random.normal()\n",
        "\n",
        "  def feedforward(self, x):\n",
        "    # x is a numpy array with 2 elements.\n",
        "    h1 = sigmoid(self.w1 * x[0] + self.w2 * x[1] + self.b1) #neuron1 in hidden layer1\n",
        "    h2 = sigmoid(self.w3 * x[0] + self.w4 * x[1] + self.b2) #neuron2 in hidden layer1\n",
        "    o1 = sigmoid(self.w5 * h1 + self.w6 * h2 + self.b3)     ##neuron1 in output layer\n",
        "    return o1\n",
        "\n",
        "  def train(self, data, y_trues):\n",
        "    '''\n",
        "    - data is a (n x 2) numpy array, n = # of samples in the dataset.\n",
        "    - all_y_trues is a numpy array with n elements.\n",
        "      Elements in all_y_trues correspond to those in data.\n",
        "    '''\n",
        "    learn_rate = 0.1\n",
        "    epochs = 1000 # number of times to loop through the entire dataset\n",
        "    \n",
        "    los = np.zeros(epochs)\n",
        "    epo = np.zeros(epochs)\n",
        "    for epoch in range(epochs):\n",
        "      for x, y_true in zip(data, y_trues):\n",
        "        # --- Do a feedforward (we'll need these values later)\n",
        "        sum_h1 = self.w1 * x[0] + self.w2 * x[1] + self.b1\n",
        "        h1 = sigmoid(sum_h1)\n",
        "\n",
        "        sum_h2 = self.w3 * x[0] + self.w4 * x[1] + self.b2\n",
        "        h2 = sigmoid(sum_h2)\n",
        "\n",
        "        sum_o1 = self.w5 * h1 + self.w6 * h2 + self.b3\n",
        "        o1 = sigmoid(sum_o1)\n",
        "        y_pred = o1\n",
        "\n",
        "        # --- Calculate partial derivatives.\n",
        "        # --- Naming: d_L_d_w1 represents \"partial L / partial w1\"\n",
        "        dL_dy = -2 * (y_true - y_pred)\n",
        "\n",
        "        # Neuron o1\n",
        "        dy_dw5 = h1 * deriv_sigmoid(sum_o1)\n",
        "        dy_dw6 = h2 * deriv_sigmoid(sum_o1)\n",
        "        dy_db3 = deriv_sigmoid(sum_o1)\n",
        "\n",
        "        dy_dh1 = self.w5 * deriv_sigmoid(sum_o1)\n",
        "        dy_dh2 = self.w6 * deriv_sigmoid(sum_o1)\n",
        "\n",
        "        # Neuron h1\n",
        "        dh1_dw1 = x[0] * deriv_sigmoid(sum_h1)\n",
        "        dh1_dw2 = x[1] * deriv_sigmoid(sum_h1)\n",
        "        dh1_db1 = deriv_sigmoid(sum_h1)\n",
        "\n",
        "        # Neuron h2\n",
        "        dh2_dw3 = x[0] * deriv_sigmoid(sum_h2)\n",
        "        dh2_dw4 = x[1] * deriv_sigmoid(sum_h2)\n",
        "        dh2_db2 = deriv_sigmoid(sum_h2)\n",
        "\n",
        "        # --- Update weights and biases\n",
        "        # Neuron h1\n",
        "        self.w1 -= learn_rate * dL_dy * dy_dh1 * dh1_dw1\n",
        "        self.w2 -= learn_rate * dL_dy * dy_dh1 * dh1_dw2\n",
        "        self.b1 -= learn_rate * dL_dy * dy_dh1 * dh1_db1\n",
        "\n",
        "        # Neuron h2\n",
        "        self.w3 -= learn_rate * dL_dy * dy_dh2 * dh2_dw3\n",
        "        self.w4 -= learn_rate * dL_dy * dy_dh2 * dh2_dw4\n",
        "        self.b2 -= learn_rate * dL_dy * dy_dh2 * dh2_db2\n",
        "\n",
        "        # Neuron o1\n",
        "        self.w5 -= learn_rate * dL_dy * dy_dw5\n",
        "        self.w6 -= learn_rate * dL_dy * dy_dw6\n",
        "        self.b3 -= learn_rate * dL_dy * dy_db3\n",
        "\n",
        "      # --- Calculate total loss at the end of each epoch\n",
        "      if epoch % 10 == 0:\n",
        "        y_preds = np.apply_along_axis(self.feedforward, 1, data)\n",
        "        loss = mse_loss(y_trues, y_preds)\n",
        "        #print(\"Epoch %d loss: %.3f\" % (epoch, loss))\n",
        "      los[epoch] = loss \n",
        "      epo[epoch] = epoch\n",
        "    return los,epo\n",
        "\n"
      ]
    },
    {
      "cell_type": "code",
      "source": [
        "# Define dataset\n",
        "data = np.array([\n",
        "  [23.1, 69],   # Aluminium\tMetal\t23.1\t69\n",
        "  [17, 51],     # Copper\tMetal\t17\t51\n",
        "  [250, 750],   # Ethanol\tLiquid\t250\t750\n",
        "  [317, 950],   # Gasoline\tLiquid\t317\t950[20]\n",
        "  [11.8, 35.4], # Iron\tMetal\t11.8\t35.4\n",
        "  [29, 87],     # Lead\tMetal\t29\t87\\\n",
        "  [13.0, 39],   # Nickel\tMetal\t13\t39\n",
        "  [69.0, 207],  #Water\tNonmetal\t69\t207\n",
        "])\n",
        "\n",
        "c0max = data[:,0].max()\n",
        "c1max = data[:,1].max()\n",
        "data[:,0] = data[:,0]/c0max\n",
        "data[:,1] = data[:,1]/c1max\n",
        "\n",
        "y_train = np.array([\n",
        "  1, # Al\n",
        "  1, # Cu\n",
        "  0, # Ethanol\n",
        "  0, # Gasoline\n",
        "  1, # Iron\n",
        "  1, #Lead\n",
        "  1, #Nickel \n",
        "  0, #water\n",
        "])\n",
        "\n",
        "#https://towardsdatascience.com/machine-learning-for-beginners-an-introduction-to-neural-networks-d49f22d238f9\n",
        "# Train our neural network!\n",
        "network = OurNeuralNetwork()\n",
        "los, epo = network.train(data, y_train)\n",
        "plt.plot(epo, los)\n",
        "# Make some predictions\n",
        "gold = np.array([14/c0max, 42/c1max]) # Gold\tMetal\t14\t42\n",
        "polymer = np.array([150/c0max, 450/c1max])  # Polypropylene (PP)\tPolymer\t150\t450\n",
        "print(\"Gold: %.3f\" % network.feedforward(gold)) # metal\n",
        "print(\"Polymer: %.3f\" % network.feedforward(polymer)) # non-metal"
      ],
      "metadata": {
        "colab": {
          "base_uri": "https://localhost:8080/",
          "height": 300
        },
        "id": "1Li5KsU-cbHs",
        "outputId": "982b2677-8f65-4af1-b0ee-c7b46e65b98b"
      },
      "execution_count": 4,
      "outputs": [
        {
          "output_type": "stream",
          "name": "stdout",
          "text": [
            "Gold: 0.927\n",
            "Polymer: 0.034\n"
          ]
        },
        {
          "output_type": "display_data",
          "data": {
            "text/plain": [
              "<Figure size 432x288 with 1 Axes>"
            ],
            "image/png": "[encoded data removed]"
          },
          "metadata": {
            "needs_background": "light"
          }
        }
      ]
    },
    {
      "cell_type": "code",
      "source": [
        "# https://scikit-learn.org/stable/modules/linear_model.html\n",
        "# least squres method\n",
        "LR = LinearRegression()\n",
        "# fitting the training data\n",
        "LR.fit(data,y_train)\n",
        "\n",
        "y_pred = LR.predict([[14/c0max, 42/c1max],[150/c0max, 450/c1max] ])\n",
        "print(y_pred)"
      ],
      "metadata": {
        "id": "Ufae32fwB3SY",
        "colab": {
          "base_uri": "https://localhost:8080/"
        },
        "outputId": "6d5af8f0-820c-4588-cf30-3e8d8dbcadcc"
      },
      "execution_count": 29,
      "outputs": [
        {
          "output_type": "stream",
          "name": "stdout",
          "text": [
            "[0.89245946 0.29439583]\n"
          ]
        }
      ]
    },
    {
      "cell_type": "code",
      "source": [
        "input_size=2\n",
        "output_size=1\n",
        "models = tf.keras.Sequential([ tf.keras.layers.Dense(output_size)])\n",
        "custom_optimizer=tf.keras.optimizers.Adam(learning_rate=0.01)  #SGD\n",
        "models.compile(optimizer=custom_optimizer,loss='mean_squared_error')\n",
        "models.fit(data,y_train,epochs=10000,verbose=0)\n",
        "\n",
        "#weights=models.layers[0].get_weights()[0]\n",
        "#bias=models.layers[0].get_weights()[1]\n",
        "test_data=[[14/c0max, 42/c1max],[150/c0max, 450/c1max]]\n",
        "out=models.predict(test_data)\n",
        "print(out)\n"
      ],
      "metadata": {
        "id": "vZl05j5RDD-y",
        "colab": {
          "base_uri": "https://localhost:8080/"
        },
        "outputId": "42fd6504-13e9-4424-c233-eeb19990c070"
      },
      "execution_count": 30,
      "outputs": [
        {
          "output_type": "stream",
          "name": "stdout",
          "text": [
            "[[0.8963452]\n",
            " [0.4180262]]\n"
          ]
        }
      ]
    },
    {
      "cell_type": "code",
      "source": [
        "# tensorflow \n",
        "dftrx = pd.DataFrame(data, columns=['Linear','Volume'])\n",
        "dftry = pd.DataFrame(y_train, columns=['Class'])\n",
        "train_set = pd.concat([dftrx, dftry], ignore_index=True, axis=1)\n",
        "train_set.columns = ['Linear','Volume','Class']\n",
        "print(train_set)\n",
        "\n",
        "test_data=[[14/c0max, 42/c1max, 1],[150/c0max, 450/c1max, 0] ] \n",
        "test_set = pd.DataFrame(test_data)   #, columns=['Linear','Volume','Class'])\n",
        "test_set.columns = ['Linear','Volume','Class']\n",
        "print(test_set)\n"
      ],
      "metadata": {
        "id": "caD-t1XJB4lH",
        "colab": {
          "base_uri": "https://localhost:8080/"
        },
        "outputId": "7eb3f21c-1e2f-47fa-fce5-7f6371b79539"
      },
      "execution_count": 7,
      "outputs": [
        {
          "output_type": "stream",
          "name": "stdout",
          "text": [
            "     Linear    Volume  Class\n",
            "0  0.072871  0.072632      1\n",
            "1  0.053628  0.053684      1\n",
            "2  0.788644  0.789474      0\n",
            "3  1.000000  1.000000      0\n",
            "4  0.037224  0.037263      1\n",
            "5  0.091483  0.091579      1\n",
            "6  0.041009  0.041053      1\n",
            "7  0.217666  0.217895      0\n",
            "     Linear    Volume  Class\n",
            "0  0.044164  0.044211      1\n",
            "1  0.473186  0.473684      0\n"
          ]
        }
      ]
    },
    {
      "cell_type": "code",
      "source": [
        "tf.autograph.set_verbosity(0)\n",
        "tf.get_logger().setLevel('WARNING') #INFO, DEBUG, ERROR \n",
        "feature_cols = [tf.feature_column.numeric_column(k) for k in FEATURES]\n",
        "opti = tf.keras.optimizers.Adam(learning_rate = 0.02) #,epsilon=0.01)\n",
        "regressor = tf.estimator.DNNRegressor(feature_columns=feature_cols,hidden_units=[2, 1],activation_fn=tf.nn.sigmoid, optimizer=opti)\n",
        "                                      #,dropout = 0.004,optimizer=opti)  #,model_dir='/model') #opti.apply_gradients(zip([grad], [x]))\n",
        "\n",
        "regressor.train(input_fn=get_input_fn(train_set),steps=10000)\n",
        "\n",
        "prediction = regressor.predict(input_fn=get_input_fn(test_set, num_epochs=1, shuffle=False))\n",
        "y_predicted = np.array(list(p['predictions'] for p in prediction))\n",
        "print(abs(y_predicted))"
      ],
      "metadata": {
        "colab": {
          "base_uri": "https://localhost:8080/"
        },
        "id": "d5EVL1kBj41s",
        "outputId": "cfc610cb-76be-4601-dd6e-df20b133bfb0"
      },
      "execution_count": 43,
      "outputs": [
        {
          "output_type": "stream",
          "name": "stdout",
          "text": [
            "WARNING:tensorflow:Using temporary folder as model directory: /tmp/tmpsvg632by\n",
            "[[1.0009571e+00]\n",
            " [5.9804588e-04]]\n"
          ]
        }
      ]
    },
    {
      "cell_type": "code",
      "source": [
        "# random forest regression \n",
        "from sklearn.ensemble import RandomForestRegressor\n",
        "# Instantiate model with 6 decision trees\n",
        "rf = RandomForestRegressor(n_estimators =8,random_state = 10)\n",
        "# Train the model on training data\n",
        "model = rf.fit(data,y_train)\n",
        "# test data \n",
        "test_data = [[14/c0max, 42/c1max],[150/c0max, 450/c1max]]\n",
        "# predict \n",
        "y_pred = model.predict(test_data)  # test the output by changing values\n",
        "print(y_pred) "
      ],
      "metadata": {
        "colab": {
          "base_uri": "https://localhost:8080/"
        },
        "id": "feDFXyJtjHbn",
        "outputId": "b40ad579-0036-48ff-b680-6f0154be5fdf"
      },
      "execution_count": 28,
      "outputs": [
        {
          "output_type": "stream",
          "name": "stdout",
          "text": [
            "[1.   0.25]\n"
          ]
        }
      ]
    },
    {
      "cell_type": "code",
      "source": [
        "#Support Vector Regression\n",
        "from sklearn.svm import SVR\n",
        "regressor = SVR(kernel = 'rbf')\n",
        "regressor.fit(data,y_train)\n",
        "y_pred = regressor.predict(test_data)\n",
        "#y_pred = sc_y.inverse_transform(y_pred) \n",
        "print(y_pred)"
      ],
      "metadata": {
        "colab": {
          "base_uri": "https://localhost:8080/"
        },
        "id": "6XNxOg9XtFfi",
        "outputId": "8445c384-a06f-43fd-9700-538e0420716e"
      },
      "execution_count": 44,
      "outputs": [
        {
          "output_type": "stream",
          "name": "stdout",
          "text": [
            "[0.94190733 0.16106845]\n"
          ]
        }
      ]
    },
    {
      "cell_type": "code",
      "source": [
        "#ploynomial fit in numpy \n",
        "z = np.polyfit(data[:,0], y_train, 3)\n",
        "z1 = np.polyfit(data[:,1], y_train, 3)\n",
        "zf = np.polyfit(z, z1, 3)"
      ],
      "metadata": {
        "id": "ljxqOB-xciZA"
      },
      "execution_count": 31,
      "outputs": []
    }
  ]
}