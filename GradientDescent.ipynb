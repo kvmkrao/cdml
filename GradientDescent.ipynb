{
  "nbformat": 4,
  "nbformat_minor": 0,
  "metadata": {
    "colab": {
      "name": "GradientDescent.ipynb",
      "provenance": [],
      "authorship_tag": "ABX9TyPKFl48hSI35mwrVZbFHseh",
      "include_colab_link": true
    },
    "kernelspec": {
      "name": "python3",
      "display_name": "Python 3"
    },
    "language_info": {
      "name": "python"
    }
  },
  "cells": [
    {
      "cell_type": "markdown",
      "metadata": {
        "id": "view-in-github",
        "colab_type": "text"
      },
      "source": [
        "<a href=\"https://colab.research.google.com/github/kvmkrao/cdml/blob/master/GradientDescent.ipynb\" target=\"_parent\"><img src=\"https://colab.research.google.com/assets/colab-badge.svg\" alt=\"Open In Colab\"/></a>"
      ]
    },
    {
      "cell_type": "markdown",
      "source": [
        "Choose an initial vector of parameters $w$w and learning rate $\\eta$ .\n",
        "Repeat until an approximate minimum is obtained:\n",
        "Randomly shuffle samples in the training set.\n",
        "For ${i=1,2,...,n}$ do:\n",
        "${w:=w-\\eta \\nabla Q_{i}(w).}$\n"
      ],
      "metadata": {
        "id": "fyugKHatZUts"
      }
    },
    {
      "cell_type": "markdown",
      "source": [
        "Let's suppose we want to fit a straight line ${\\hat{y}} = w_1 + w_2 x $  \n",
        "\n",
        "to a training set with observations $x_{1}$,$x_{2}$,.... ,$x_n$ and corresponding estimated responses \n",
        "\n",
        "(${\\hat{y_1}}$ ,${\\hat{y_2}}$,...., ${\\hat{y_n}}$) : \n",
        "\n",
        "using least squares. The objective function to be minimized is:\n",
        "\n",
        "$Q_{i}(w)= \\sum_{i=1}^{n} ( {\\hat{y_i}}- y_i)^{2}  $\n",
        "\n",
        "$=\\sum_{i=1}^{n}(w_{1}+w_{2} x_i- y_i)^2 $\n",
        "\n",
        "\n",
        "$Q(w)=\\sum_{i=1}^{n} Q_{i}(w)=\\sum_{i=1}^{n} ( {\\hat {y_i}}-y_i)^{2}= \\sum_{i=1}^{n} (w_1+w_2 x_i-y_i)^2. $\n",
        "\n",
        "We use the following procedure to find ($w_1$, $w_2$): \n",
        "\n",
        "\\begin{equation} \n",
        "\\begin{bmatrix} \n",
        "w_1 \\\\  \n",
        "w_2 \n",
        "\\end{bmatrix} :=   \n",
        "\\begin{bmatrix} \n",
        "w_1  \\\\  \n",
        "w_2 \n",
        "\\end{bmatrix} \n",
        "- \\eta \\begin{bmatrix} \n",
        "   \\frac{\\partial}{\\partial w_1} (w_1+w_2 x_i -y_i)^{2} \\\\ \n",
        " \\frac{\\partial}{\\partial w_2} (w_1+w_2 x_i -y_i)^{2} \n",
        "\\end{bmatrix} \n",
        "\\end{equation}\n",
        "\n",
        "\\begin{equation}\n",
        ":= \n",
        "\\begin{bmatrix} \n",
        "w_1 \\\\  \n",
        "w_2 \n",
        "\\end{bmatrix} \n",
        "- \\eta \\begin{bmatrix} \n",
        "2(w_1+w_2 x_i -y_i) \\\\ \n",
        "x_i(w_1+w_2 x_i -y_i) \n",
        "\\end{bmatrix} \n",
        "\\end{equation}\n",
        "Note that in each iteration (also called update), the gradient is only evaluated at a single point ${x_i}$ instead of at the set of all samples.\n",
        "\n",
        "The key difference compared to standard (Batch) Gradient Descent is that only one piece of data from the dataset is used to calculate the step, and the piece of data is picked randomly at each step."
      ],
      "metadata": {
        "id": "JUa3G1l9Zo1_"
      }
    },
    {
      "cell_type": "markdown",
      "source": [
        "Algorithm for Gradient Descent\n",
        "Steps should be made in proportion to the negative of the function gradient (move away from the gradient) at the current point to find local minima. Gradient Ascent is the procedure for approaching a local maximum of a function by taking steps proportional to the positive of the gradient (moving towards the gradient).\n",
        "\n",
        "repeat until convergence\n",
        "{ \\\n",
        "    $w = w - (learningRate * (dJ/dw))$ \\\n",
        "    $b = b - (learningRate * (dJ/db))$ \\\n",
        "}\n",
        "\n",
        "**Step 1**: Initializing all the necessary parameters and deriving the gradient function for the parabolic equation $4x^2$. The derivate of $x^2$ is $2x$, so the derivative of the parabolic equation $4x^2$ will be 8x. \n",
        "\n",
        "x0 = 3 (random initialization of x)\n",
        "\n",
        "learning_rate = 0.01 (to determine the step size while moving towards local minima)\n",
        "\n",
        "$\\Delta Q = \\frac{dy}{dx}=\\frac{d}{dx}(2*x^2) = 4*x  $(Calculating the gradient function)\n",
        "\n",
        "**Step 2**: Let us perform 3 iterations of gradient descent:\n",
        "\n",
        "For each iteration keep on updating the value of x based on the gradient descent formula.\n",
        "\n",
        "$\\eta$ - learning rate - 0.01\n",
        "\n",
        "Iteration 1:\n",
        "    $x1 = x0 - (\\eta * \\Delta Q ) $ \\\n",
        "    $x1 = 2 - (0.01 * (4 * 2))$ \\\n",
        "    $x1 = 2 - 0.08$ \\\n",
        "    $x1 = 1.92 $\n",
        "\n",
        "Iteration 2:\n",
        "    $x2 = x1 - (\\eta * \\Delta Q )$ \\\n",
        "    $x2 = 1.92 - (0.01 * (4 * 1.92))$ \\\n",
        "    $x2 = 1.92 - 0.0768 $ \\\n",
        "    $x2 = 1.8432 $\n",
        "\n",
        "Iteration 3:\n",
        "    $x3 = x2 - (\\eta * \\Delta Q)$ \\\n",
        "    $x3 = 1.8432 - (0.01 * (4 * 1.8432))$ \\\n",
        "    $x3 = 1.8432 - 0.073728$ \\\n",
        "    $x3 = 1.769472$\n",
        "\n",
        "From the above three iterations of gradient descent, we can notice that the value of x is decreasing iteration by iteration and will slowly converge to 0 (local minima) by running the gradient descent for more iterations. \n",
        "\n",
        "We can set a stopping threshold i.e. when the difference between the previous and the present value of $x$ becomes less than the stopping threshold we stop the iterations. When it comes to the implementation of gradient descent for machine learning algorithms and deep learning algorithms we try to minimize the cost function in the algorithms using gradient descent. Now that we are clear with the gradient descent’s internal working, let us look into the python implementation of gradient descent where we will be minimizing the cost function of the linear regression algorithm and finding the best fit line. In our case the parameters are below mentioned:\n",
        "\n"
      ],
      "metadata": {
        "id": "38adZmwdduHj"
      }
    },
    {
      "cell_type": "code",
      "source": [
        "import numpy as np\n",
        "import matplotlib.pyplot as plt\n",
        " \n",
        "def mean_squared_error(y_true, y_predicted):\n",
        "    # Calculating the loss or cost\n",
        "    cost = np.sum((y_true-y_predicted)**2) / len(y_true)\n",
        "    return cost\n",
        " \n",
        "# Gradient Descent Function\n",
        "# hyperparameters: Iterations, learning_rate, stopping_threshold \n",
        "def gradient_descent(x, y, iterations = 10000, learning_rate = 0.01,\n",
        "                     threshold = 1e-6):\n",
        "     \n",
        "    # Initializing weight, bias, learning rate and iterations\n",
        "    current_weight = np.random.rand() #0.1\n",
        "    current_bias = np.random.rand() #0.01\n",
        "    iterations = iterations\n",
        "    learning_rate = learning_rate\n",
        "    n = float(len(x))\n",
        "     \n",
        "    costs = []\n",
        "    weights = []\n",
        "    previous_cost = None\n",
        "     \n",
        "    # Estimation of optimal parameters\n",
        "    for i in range(iterations):\n",
        "         \n",
        "        # Making predictions\n",
        "        y_predicted = (current_weight * x) + current_bias\n",
        "         \n",
        "        # Calculationg the current cost\n",
        "        current_cost = mean_squared_error(y, y_predicted)\n",
        " \n",
        "        # If the change in cost is less than or equal to\n",
        "        # stopping_threshold we stop the gradient descent\n",
        "        if previous_cost and abs(previous_cost-current_cost)<=threshold:\n",
        "            break\n",
        "         \n",
        "        previous_cost = current_cost\n",
        " \n",
        "        costs.append(current_cost)\n",
        "        weights.append(current_weight)\n",
        "         \n",
        "        # Calculating the gradients\n",
        "        weight_derivative = -(2/n) * sum(x * (y-y_predicted))\n",
        "        bias_derivative = -(2/n) * sum(y-y_predicted)\n",
        "         \n",
        "        # Update weights and bias\n",
        "        current_weight = current_weight - (learning_rate * weight_derivative)\n",
        "        current_bias = current_bias - (learning_rate * bias_derivative)\n",
        "                 \n",
        "        # Print the parameters for each 100th iteration \n",
        "        if i%100  == 0: \n",
        "          print(f\"Iteration {i+1}: Cost {current_cost}, Weight \\\n",
        "          {current_weight}, Bias {current_bias}\")\n",
        "     \n",
        "      # plot the weights and cost at for all iterations\n",
        "    plt.figure(figsize = (8,6))\n",
        "    plt.plot(weights, costs)\n",
        "    plt.scatter(weights, costs, marker='o', color='red')\n",
        "    plt.title(\"Cost vs Weights\")\n",
        "    plt.ylabel(\"Cost\")\n",
        "    plt.xlabel(\"Weight\")\n",
        "    plt.show()\n",
        "     \n",
        "    return current_weight, current_bias\n",
        " \n",
        "X = np.random.rand(1000)\n",
        "Y = 5.0*X+1.0 #np.random.rand(100)\n",
        "#Y = np.exp(-X)+1 #np.random.rand(100)\n",
        "# Estimating weight and bias using gradient descent\n",
        "estimated_weight, eatimated_bias = gradient_descent(X, Y, iterations=2000)\n",
        "print(f\"Estimated Weight: {estimated_weight}\\nEstimated Bias: {eatimated_bias}\")\n",
        " \n",
        "# Making predictions using estimated parameters\n",
        "Y_pred = estimated_weight*X + eatimated_bias\n",
        " \n",
        "# Plotting the regression line\n",
        "plt.figure(figsize = (8,6))\n",
        "plt.scatter(X, Y, marker='o', color='red')\n",
        "plt.plot([min(X), max(X)], [min(Y_pred), max(Y_pred)], color='blue',markerfacecolor='red',markersize=10,linestyle='dashed')\n",
        "plt.xlabel(\"X\")\n",
        "plt.ylabel(\"Y\")\n",
        "plt.show()"
      ],
      "metadata": {
        "colab": {
          "base_uri": "https://localhost:8080/",
          "height": 1000
        },
        "id": "WxzGFJmbb1Gn",
        "outputId": "abb135eb-44bc-4aa0-bef5-5670b28afa00"
      },
      "execution_count": 23,
      "outputs": [
        {
          "output_type": "stream",
          "name": "stdout",
          "text": [
            "Iteration 1: Cost 7.80176746997672, Weight           0.9221093334920665, Bias 0.5935126669739041\n",
            "Iteration 101: Cost 0.6252377105459023, Weight           2.2963619764189884, Bias 2.259719890121275\n",
            "Iteration 201: Cost 0.449484931893234, Weight           2.6960043463758687, Bias 2.227318951748195\n",
            "Iteration 301: Cost 0.34529568043244446, Weight           2.985128562330594, Bias 2.085340289099684\n",
            "Iteration 401: Cost 0.2653942498512846, Weight           3.233945582521892, Bias 1.9522290435432617\n",
            "Iteration 501: Cost 0.20398280604766933, Weight           3.4517291667445544, Bias 1.834873344570938\n",
            "Iteration 601: Cost 0.15678179314205798, Weight           3.642633097077995, Bias 1.7319376197003473\n",
            "Iteration 701: Cost 0.12050295386421768, Weight           3.8099965330842087, Bias 1.6416900628890354\n",
            "Iteration 801: Cost 0.09261892978139778, Weight           3.9567239103794223, Bias 1.5625697359152697\n",
            "Iteration 901: Cost 0.07118718569768452, Weight           4.085359797964325, Bias 1.4932049190755399\n",
            "Iteration 1001: Cost 0.05471468326742021, Weight           4.198134886519275, Bias 1.432392778806493\n",
            "Iteration 1101: Cost 0.042053868764634614, Weight           4.297004812558248, Bias 1.379078772085375\n",
            "Iteration 1201: Cost 0.03232272897257522, Weight           4.3836840819465674, Bias 1.3323383795603096\n",
            "Iteration 1301: Cost 0.024843345901939096, Weight           4.459675802008584, Bias 1.2913610749579423\n",
            "Iteration 1401: Cost 0.019094669764024314, Weight           4.526297747010698, Bias 1.255436269843236\n",
            "Iteration 1501: Cost 0.014676220137026045, Weight           4.584705209721691, Bias 1.223940991296946\n",
            "Iteration 1601: Cost 0.011280186574174856, Weight           4.635911035373099, Bias 1.1963290789277337\n",
            "Iteration 1701: Cost 0.008669985047933317, Weight           4.680803185433045, Bias 1.1721217138915918\n",
            "Iteration 1801: Cost 0.006663776369043438, Weight           4.720160135767642, Bias 1.1508991156826216\n",
            "Iteration 1901: Cost 0.005121798394243837, Weight           4.754664376209935, Bias 1.1322932627090811\n"
          ]
        },
        {
          "output_type": "display_data",
          "data": {
            "text/plain": [
              "<Figure size 576x432 with 1 Axes>"
            ],
            "image/png": "[encoded data removed]"
          },
          "metadata": {
            "needs_background": "light"
          }
        },
        {
          "output_type": "stream",
          "name": "stdout",
          "text": [
            "Estimated Weight: 4.784631027211036\n",
            "Estimated Bias: 1.116134231370068\n"
          ]
        },
        {
          "output_type": "display_data",
          "data": {
            "text/plain": [
              "<Figure size 576x432 with 1 Axes>"
            ],
            "image/png": "[encoded data removed]"
          },
          "metadata": {
            "needs_background": "light"
          }
        }
      ]
    }
  ]
}