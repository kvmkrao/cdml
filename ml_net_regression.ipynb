{
  "nbformat": 4,
  "nbformat_minor": 0,
  "metadata": {
    "colab": {
      "name": "ml_net_regression.ipynb",
      "provenance": [],
      "collapsed_sections": [],
      "authorship_tag": "ABX9TyM8Js4XCDf2lPtDblWeSpD/",
      "include_colab_link": true
    },
    "kernelspec": {
      "name": "python3",
      "display_name": "Python 3"
    },
    "language_info": {
      "name": "python"
    }
  },
  "cells": [
    {
      "cell_type": "markdown",
      "metadata": {
        "id": "view-in-github",
        "colab_type": "text"
      },
      "source": [
        "<a href=\"https://colab.research.google.com/github/kvmkrao/cdml/blob/master/ml_net_regression.ipynb\" target=\"_parent\"><img src=\"https://colab.research.google.com/assets/colab-badge.svg\" alt=\"Open In Colab\"/></a>"
      ]
    },
    {
      "cell_type": "code",
      "source": [
        "#https://en.wikipedia.org/wiki/Thermal_expansion\n",
        "import numpy as np\n",
        "import tensorflow as tf\n",
        "import matplotlib.pyplot as plt\n",
        "import pandas as pd "
      ],
      "metadata": {
        "id": "oXpefjD6Wi8I"
      },
      "execution_count": 3,
      "outputs": []
    },
    {
      "cell_type": "code",
      "source": [
        "COLUMNS =  ['Linear','Volume','Class']\n",
        "FEATURES = ['Linear','Volume']\n",
        "LABEL = \"Class\"\n",
        "def get_input_fn(data_set, num_epochs=None, shuffle=True):\n",
        "  return tf.compat.v1.estimator.inputs.pandas_input_fn(\n",
        "      x=pd.DataFrame({k: data_set[k].values for k in FEATURES}),\n",
        "      y=pd.Series(data_set[LABEL].values),\n",
        "      num_epochs=num_epochs,\n",
        "      shuffle=shuffle)"
      ],
      "metadata": {
        "id": "0Uy4xEfjWiZH"
      },
      "execution_count": 4,
      "outputs": []
    },
    {
      "cell_type": "code",
      "execution_count": 5,
      "metadata": {
        "id": "1XYalSkNkGko"
      },
      "outputs": [],
      "source": [
        "def sigmoid(x):\n",
        "  # Sigmoid activation function: f(x) = 1 / (1 + e^(-x))\n",
        "  return 1 / (1 + np.exp(-x))\n",
        "\n",
        "def deriv_sigmoid(x):\n",
        "  # Derivative of sigmoid: f'(x) = f(x) * (1 - f(x))\n",
        "  fx = sigmoid(x)\n",
        "  return fx * (1 - fx)\n",
        "\n",
        "def mse_loss(y_true, y_pred):\n",
        "  # y_true and y_pred are numpy arrays of the same length.\n",
        "  return ((y_true - y_pred) ** 2).mean()\n",
        "\n",
        "class OurNeuralNetwork:\n",
        "  '''\n",
        "  A neural network with:\n",
        "    - 2 inputs\n",
        "    - a hidden layer with 2 neurons (h1, h2)\n",
        "    - an output layer with 1 neuron (o1)\n",
        "    The code below is intended to be simple and educational, NOT optimal.\n",
        "    Real neural net code looks nothing like this.\n",
        "  '''\n",
        "  def __init__(self):\n",
        "    # Weights\n",
        "    self.w1 = np.random.normal()\n",
        "    self.w2 = np.random.normal()\n",
        "    self.w3 = np.random.normal()\n",
        "    self.w4 = np.random.normal()\n",
        "    self.w5 = np.random.normal()\n",
        "    self.w6 = np.random.normal()\n",
        "\n",
        "    # Biases\n",
        "    self.b1 = np.random.normal()\n",
        "    self.b2 = np.random.normal()\n",
        "    self.b3 = np.random.normal()\n",
        "\n",
        "  def feedforward(self, x):\n",
        "    # x is a numpy array with 2 elements.\n",
        "    h1 = sigmoid(self.w1 * x[0] + self.w2 * x[1] + self.b1) #neuron1 in hidden layer1\n",
        "    h2 = sigmoid(self.w3 * x[0] + self.w4 * x[1] + self.b2) #neuron2 in hidden layer1\n",
        "    o1 = sigmoid(self.w5 * h1 + self.w6 * h2 + self.b3)     ##neuron1 in output layer\n",
        "    return o1\n",
        "\n",
        "  def train(self, data, y_trues):\n",
        "    '''\n",
        "    - data is a (n x 2) numpy array, n = # of samples in the dataset.\n",
        "    - all_y_trues is a numpy array with n elements.\n",
        "      Elements in all_y_trues correspond to those in data.\n",
        "    '''\n",
        "    learn_rate = 0.1\n",
        "    epochs = 5000 # number of times to loop through the entire dataset\n",
        "    \n",
        "    los = np.zeros(epochs)\n",
        "    epo = np.zeros(epochs)\n",
        "    for epoch in range(epochs):\n",
        "      for x, y_true in zip(data, y_trues):\n",
        "        # --- Do a feedforward (we'll need these values later)\n",
        "        sum_h1 = self.w1 * x[0] + self.w2 * x[1] + self.b1\n",
        "        h1 = sigmoid(sum_h1)\n",
        "\n",
        "        sum_h2 = self.w3 * x[0] + self.w4 * x[1] + self.b2\n",
        "        h2 = sigmoid(sum_h2)\n",
        "\n",
        "        sum_o1 = self.w5 * h1 + self.w6 * h2 + self.b3\n",
        "        o1 = sigmoid(sum_o1)\n",
        "        y_pred = o1\n",
        "\n",
        "        # --- Calculate partial derivatives.\n",
        "        # --- Naming: d_L_d_w1 represents \"partial L / partial w1\"\n",
        "        dL_dy = -2 * (y_true - y_pred)\n",
        "\n",
        "        # Neuron o1\n",
        "        dy_dw5 = h1 * deriv_sigmoid(sum_o1)\n",
        "        dy_dw6 = h2 * deriv_sigmoid(sum_o1)\n",
        "        dy_db3 = deriv_sigmoid(sum_o1)\n",
        "\n",
        "        dy_dh1 = self.w5 * deriv_sigmoid(sum_o1)\n",
        "        dy_dh2 = self.w6 * deriv_sigmoid(sum_o1)\n",
        "\n",
        "        # Neuron h1\n",
        "        dh1_dw1 = x[0] * deriv_sigmoid(sum_h1)\n",
        "        dh1_dw2 = x[1] * deriv_sigmoid(sum_h1)\n",
        "        dh1_db1 = deriv_sigmoid(sum_h1)\n",
        "\n",
        "        # Neuron h2\n",
        "        dh2_dw3 = x[0] * deriv_sigmoid(sum_h2)\n",
        "        dh2_dw4 = x[1] * deriv_sigmoid(sum_h2)\n",
        "        dh2_db2 = deriv_sigmoid(sum_h2)\n",
        "\n",
        "        # --- Update weights and biases\n",
        "        # Neuron h1\n",
        "        self.w1 -= learn_rate * dL_dy * dy_dh1 * dh1_dw1\n",
        "        self.w2 -= learn_rate * dL_dy * dy_dh1 * dh1_dw2\n",
        "        self.b1 -= learn_rate * dL_dy * dy_dh1 * dh1_db1\n",
        "\n",
        "        # Neuron h2\n",
        "        self.w3 -= learn_rate * dL_dy * dy_dh2 * dh2_dw3\n",
        "        self.w4 -= learn_rate * dL_dy * dy_dh2 * dh2_dw4\n",
        "        self.b2 -= learn_rate * dL_dy * dy_dh2 * dh2_db2\n",
        "\n",
        "        # Neuron o1\n",
        "        self.w5 -= learn_rate * dL_dy * dy_dw5\n",
        "        self.w6 -= learn_rate * dL_dy * dy_dw6\n",
        "        self.b3 -= learn_rate * dL_dy * dy_db3\n",
        "\n",
        "      # --- Calculate total loss at the end of each epoch\n",
        "      if epoch % 10 == 0:\n",
        "        y_preds = np.apply_along_axis(self.feedforward, 1, data)\n",
        "        loss = mse_loss(y_trues, y_preds)\n",
        "        #print(\"Epoch %d loss: %.3f\" % (epoch, loss))\n",
        "      los[epoch] = loss \n",
        "      epo[epoch] = epoch\n",
        "    return los,epo\n",
        "\n"
      ]
    },
    {
      "cell_type": "code",
      "source": [
        "# Define dataset\n",
        "data = np.array([\n",
        "  [23.1, 69],   # Aluminium\tMetal\t23.1\t69\n",
        "  [17, 51],     # Copper\tMetal\t17\t51\n",
        "  [250, 750],   # Ethanol\tLiquid\t250\t750\n",
        "  [317, 950],   # Gasoline\tLiquid\t317\t950[20]\n",
        "  [11.8, 35.4], # Iron\tMetal\t11.8\t35.4\n",
        "  [29, 87],     # Lead\tMetal\t29\t87\\\n",
        "  [13.0, 39],   # Nickel\tMetal\t13\t39\n",
        "  [69.0, 207],  #Water\tNonmetal\t69\t207\n",
        "])\n",
        "\n",
        "c0max = data[:,0].max()\n",
        "c1max = data[:,1].max()\n",
        "data[:,0] = data[:,0]/c0max\n",
        "data[:,1] = data[:,1]/c1max\n",
        "\n",
        "y_train = np.array([\n",
        "  1, # Al\n",
        "  1, # Cu\n",
        "  0, # Ethanol\n",
        "  0, # Gasoline\n",
        "  1, # Iron\n",
        "  1, #Lead\n",
        "  1, #Nickel \n",
        "  0, #water\n",
        "])\n",
        "\n",
        "#https://towardsdatascience.com/machine-learning-for-beginners-an-introduction-to-neural-networks-d49f22d238f9\n",
        "# Train our neural network!\n",
        "network = OurNeuralNetwork()\n",
        "los, epo = network.train(data, y_train)\n",
        "plt.plot(epo, los)\n",
        "# Make some predictions\n",
        "gold = np.array([14/c0max, 42/c1max]) # Gold\tMetal\t14\t42\n",
        "polymer = np.array([150/c0max, 450/c1max])  # Polypropylene (PP)\tPolymer\t150\t450\n",
        "print(\"Gold: %.3f\" % network.feedforward(gold)) # metal\n",
        "print(\"Polymer: %.3f\" % network.feedforward(polymer)) # non-metal"
      ],
      "metadata": {
        "colab": {
          "base_uri": "https://localhost:8080/",
          "height": 300
        },
        "id": "1Li5KsU-cbHs",
        "outputId": "9b818bab-1f4f-4cea-e0c9-b1dbe0982a4d"
      },
      "execution_count": 13,
      "outputs": [
        {
          "output_type": "stream",
          "name": "stdout",
          "text": [
            "Gold: 0.992\n",
            "Polymer: 0.003\n"
          ]
        },
        {
          "output_type": "display_data",
          "data": {
            "text/plain": [
              "<Figure size 432x288 with 1 Axes>"
            ],
            "image/png": "[encoded data removed]"
          },
          "metadata": {
            "needs_background": "light"
          }
        }
      ]
    },
    {
      "cell_type": "code",
      "source": [
        "# https://scikit-learn.org/stable/modules/linear_model.html\n",
        "# least squres method\n",
        "from sklearn.linear_model import LinearRegression\n",
        "data = np.array([\n",
        "  [23.1, 69],   # Aluminium\tMetal\t23.1\t69\n",
        "  [17, 51],     # Copper\tMetal\t17\t51\n",
        "  [250, 750],   # Ethanol\tLiquid\t250\t750\n",
        "  [317, 950],   # Gasoline\tLiquid\t317\t950[20]\n",
        "  [11.8, 35.4], # Iron\tMetal\t11.8\t35.4\n",
        "  [29, 87],     # Lead\tMetal\t29\t87\\\n",
        "  [13.0, 39],   # Nickel\tMetal\t13\t39\n",
        "  [69.0, 207],  #Water\tNonmetal\t69\t207\n",
        "])\n",
        "\n",
        "y_train = np.array([\n",
        "  1, # Al\n",
        "  1, # Cu\n",
        "  0, # Ethanol\n",
        "  0, # Gasoline\n",
        "  1, # Iron\n",
        "  1, #Lead\n",
        "  1, #Nickel \n",
        "  0, #water\n",
        "])\n",
        "\n",
        "c0max = data[:,0].max()\n",
        "c1max = data[:,1].max()\n",
        "data[:,0] = data[:,0]/c0max\n",
        "data[:,1] = data[:,1]/c1max\n",
        "\n",
        "\n",
        "LR = LinearRegression()\n",
        "# fitting the training data\n",
        "LR.fit(data,y_train)\n",
        "\n",
        "y_pred = LR.predict([[14/c0max, 42/c1max],[150/c0max, 450/c1max] ])\n",
        "print(y_pred)"
      ],
      "metadata": {
        "id": "Ufae32fwB3SY",
        "colab": {
          "base_uri": "https://localhost:8080/"
        },
        "outputId": "47f32090-819e-4fed-e094-2ee2147a41e7"
      },
      "execution_count": 7,
      "outputs": [
        {
          "output_type": "stream",
          "name": "stdout",
          "text": [
            "[0.89245946 0.29439583]\n"
          ]
        }
      ]
    },
    {
      "cell_type": "code",
      "source": [
        "# random forest regression \n",
        "#https://scikit-learn.org/stable/modules/generated/sklearn.ensemble.RandomForestRegressor.html\n",
        "from sklearn.ensemble import RandomForestRegressor\n",
        "# Instantiate model with 8 decision trees\n",
        "rf = RandomForestRegressor(n_estimators =9,random_state = 1)\n",
        "# Train the model on training data\n",
        "model = rf.fit(data,y_train)\n",
        "# test data \n",
        "test_data = [[14/c0max, 42/c1max],[150/c0max, 450/c1max]]\n",
        "# predict \n",
        "y_pred = model.predict(test_data)  # test the output by changing values\n",
        "print(y_pred) "
      ],
      "metadata": {
        "colab": {
          "base_uri": "https://localhost:8080/"
        },
        "id": "feDFXyJtjHbn",
        "outputId": "afe4ec44-4a1a-48cd-d2a4-af768f3453c3"
      },
      "execution_count": 18,
      "outputs": [
        {
          "output_type": "stream",
          "name": "stdout",
          "text": [
            "[1. 0.]\n"
          ]
        }
      ]
    },
    {
      "cell_type": "code",
      "source": [
        "input_size=2\n",
        "output_size=1\n",
        "models = tf.keras.Sequential([ tf.keras.layers.Dense(output_size,activation=\"sigmoid\")])\n",
        "custom_optimizer=tf.keras.optimizers.Adam(learning_rate=0.01)  #SGD\n",
        "models.compile(optimizer=custom_optimizer,loss='mean_squared_error')\n",
        "models.fit(data,y_train,epochs=10000,verbose=0)\n",
        "\n",
        "#weights=models.layers[0].get_weights()[0]\n",
        "#bias=models.layers[0].get_weights()[1]\n",
        "test_data=[[14/c0max, 42/c1max],[150/c0max, 450/c1max]]\n",
        "out=models.predict(test_data)\n",
        "print(out)\n"
      ],
      "metadata": {
        "id": "vZl05j5RDD-y",
        "colab": {
          "base_uri": "https://localhost:8080/"
        },
        "outputId": "12c8b567-e31d-4339-f683-fd144f7f674f"
      },
      "execution_count": 22,
      "outputs": [
        {
          "output_type": "stream",
          "name": "stdout",
          "text": [
            "WARNING:tensorflow:5 out of the last 5 calls to <function Model.make_predict_function.<locals>.predict_function at 0x7fb7eee87050> triggered tf.function retracing. Tracing is expensive and the excessive number of tracings could be due to (1) creating @tf.function repeatedly in a loop, (2) passing tensors with different shapes, (3) passing Python objects instead of tensors. For (1), please define your @tf.function outside of the loop. For (2), @tf.function has experimental_relax_shapes=True option that relaxes argument shapes that can avoid unnecessary retracing. For (3), please refer to https://www.tensorflow.org/guide/function#controlling_retracing and https://www.tensorflow.org/api_docs/python/tf/function for  more details.\n",
            "[[9.965627e-01]\n",
            " [9.279872e-08]]\n"
          ]
        }
      ]
    },
    {
      "cell_type": "code",
      "source": [
        "# tensorflow \n",
        "dftrx = pd.DataFrame(data, columns=['Linear','Volume'])\n",
        "dftry = pd.DataFrame(y_train, columns=['Class'])\n",
        "train_set = pd.concat([dftrx, dftry], ignore_index=True, axis=1)\n",
        "train_set.columns = ['Linear','Volume','Class']\n",
        "print(train_set)\n",
        "\n",
        "test_data=[[14/c0max, 42/c1max, 1],[150/c0max, 450/c1max, 0] ] \n",
        "test_set = pd.DataFrame(test_data)   #, columns=['Linear','Volume','Class'])\n",
        "test_set.columns = ['Linear','Volume','Class']\n",
        "print(test_set)\n"
      ],
      "metadata": {
        "id": "caD-t1XJB4lH",
        "colab": {
          "base_uri": "https://localhost:8080/"
        },
        "outputId": "cd87d80b-7ab2-4b7d-a728-eb9c0e729204"
      },
      "execution_count": 10,
      "outputs": [
        {
          "output_type": "stream",
          "name": "stdout",
          "text": [
            "     Linear    Volume  Class\n",
            "0  0.072871  0.072632      1\n",
            "1  0.053628  0.053684      1\n",
            "2  0.788644  0.789474      0\n",
            "3  1.000000  1.000000      0\n",
            "4  0.037224  0.037263      1\n",
            "5  0.091483  0.091579      1\n",
            "6  0.041009  0.041053      1\n",
            "7  0.217666  0.217895      0\n",
            "     Linear    Volume  Class\n",
            "0  0.044164  0.044211      1\n",
            "1  0.473186  0.473684      0\n"
          ]
        }
      ]
    },
    {
      "cell_type": "code",
      "source": [
        "tf.autograph.set_verbosity(0)\n",
        "tf.get_logger().setLevel('WARNING') #INFO, DEBUG, ERROR \n",
        "feature_cols = [tf.feature_column.numeric_column(k) for k in FEATURES]\n",
        "opti = tf.keras.optimizers.Adam(learning_rate = 0.02) #,epsilon=0.01)\n",
        "regressor = tf.estimator.DNNRegressor(feature_columns=feature_cols,hidden_units=[2, 1],activation_fn=tf.nn.sigmoid, optimizer=opti)\n",
        "                                      #,dropout = 0.004,optimizer=opti)  #,model_dir='/model') #opti.apply_gradients(zip([grad], [x]))\n",
        "\n",
        "regressor.train(input_fn=get_input_fn(train_set),steps=10000)\n",
        "\n",
        "prediction = regressor.predict(input_fn=get_input_fn(test_set, num_epochs=1, shuffle=False))\n",
        "y_predicted = np.array(list(p['predictions'] for p in prediction))\n",
        "print(abs(y_predicted))"
      ],
      "metadata": {
        "colab": {
          "base_uri": "https://localhost:8080/"
        },
        "id": "d5EVL1kBj41s",
        "outputId": "1a41c5a0-3589-439e-d1f7-b0e1ae674b1f"
      },
      "execution_count": 11,
      "outputs": [
        {
          "output_type": "stream",
          "name": "stdout",
          "text": [
            "WARNING:tensorflow:Using temporary folder as model directory: /tmp/tmpd4zlehas\n",
            "WARNING:tensorflow:From /usr/local/lib/python3.7/dist-packages/tensorflow/python/training/training_util.py:397: Variable.initialized_value (from tensorflow.python.ops.variables) is deprecated and will be removed in a future version.\n",
            "Instructions for updating:\n",
            "Use Variable.read_value. Variables in 2.X are initialized automatically both in eager and graph (inside tf.defun) contexts.\n",
            "WARNING:tensorflow:From /usr/local/lib/python3.7/dist-packages/tensorflow_estimator/python/estimator/inputs/queues/feeding_queue_runner.py:65: QueueRunner.__init__ (from tensorflow.python.training.queue_runner_impl) is deprecated and will be removed in a future version.\n",
            "Instructions for updating:\n",
            "To construct input pipelines, use the `tf.data` module.\n",
            "WARNING:tensorflow:From /usr/local/lib/python3.7/dist-packages/tensorflow_estimator/python/estimator/inputs/queues/feeding_functions.py:491: add_queue_runner (from tensorflow.python.training.queue_runner_impl) is deprecated and will be removed in a future version.\n",
            "Instructions for updating:\n",
            "To construct input pipelines, use the `tf.data` module.\n",
            "WARNING:tensorflow:From /usr/local/lib/python3.7/dist-packages/tensorflow/python/training/monitored_session.py:914: start_queue_runners (from tensorflow.python.training.queue_runner_impl) is deprecated and will be removed in a future version.\n",
            "Instructions for updating:\n",
            "To construct input pipelines, use the `tf.data` module.\n",
            "WARNING:tensorflow:It seems that global step (tf.train.get_global_step) has not been increased. Current value (could be stable): 4373 vs previous value: 4373. You could increase the global step by passing tf.train.get_global_step() to Optimizer.apply_gradients or Optimizer.minimize.\n",
            "[[1.0022248 ]\n",
            " [0.00160238]]\n"
          ]
        }
      ]
    },
    {
      "cell_type": "code",
      "source": [
        "#Support Vector Regression\n",
        "#https://scikit-learn.org/stable/auto_examples/svm/plot_svm_regression.html\n",
        "from sklearn.svm import SVR\n",
        "#regressor = SVR(kernel = 'rbf') \n",
        "regressor = SVR(kernel='linear',C=100, gamma=0.1, degree=4)\n",
        "#regressor = SVR(kernel=\"rbf\", C=100, gamma=0.1, epsilon=0.1)\n",
        "#regressor = SVR(kernel=\"linear\", C=100, gamma=\"auto\")\n",
        "#regressor = SVR(kernel=\"poly\", C=100, gamma=\"auto\", degree=3, epsilon=0.1, coef0=0.85)\n",
        "\n",
        "\n",
        "regressor.fit(data,y_train)\n",
        "y_pred = regressor.predict(test_data)\n",
        "#y_pred = sc_y.inverse_transform(y_pred) \n",
        "print(y_pred)"
      ],
      "metadata": {
        "colab": {
          "base_uri": "https://localhost:8080/"
        },
        "id": "6XNxOg9XtFfi",
        "outputId": "ed159490-a8e6-4d94-a87b-10b53a6199b2"
      },
      "execution_count": 55,
      "outputs": [
        {
          "output_type": "stream",
          "name": "stdout",
          "text": [
            "[0.93079077 0.46784868]\n"
          ]
        }
      ]
    },
    {
      "cell_type": "code",
      "source": [
        "#ploynomial fit in numpy \n",
        "z = np.polyfit(data[:,0], y_train, 3)\n",
        "z1 = np.polyfit(data[:,1], y_train, 3)\n",
        "zf = np.polyfit(z, z1, 3)\n",
        "plt.plot(z,zf,'o', z,z1)"
      ],
      "metadata": {
        "id": "ljxqOB-xciZA",
        "colab": {
          "base_uri": "https://localhost:8080/",
          "height": 304
        },
        "outputId": "4fecea6e-12c7-423f-a8e3-f66d4e618932"
      },
      "execution_count": 61,
      "outputs": [
        {
          "output_type": "execute_result",
          "data": {
            "text/plain": [
              "[<matplotlib.lines.Line2D at 0x7fb7ecf2ec90>,\n",
              " <matplotlib.lines.Line2D at 0x7fb7ecf2ef10>]"
            ]
          },
          "metadata": {},
          "execution_count": 61
        },
        {
          "output_type": "display_data",
          "data": {
            "text/plain": [
              "<Figure size 432x288 with 1 Axes>"
            ],
            "image/png": "[encoded data removed]"
          },
          "metadata": {
            "needs_background": "light"
          }
        }
      ]
    },
    {
      "cell_type": "code",
      "source": [
        "import pandas as pd \n",
        "import requests\n",
        "import matplotlib.pyplot as plt\n",
        "import numpy as np \n",
        "\n",
        "url = 'https://population.un.org/wpp/Download/Files/1_Indicators%20(Standard)/EXCEL_FILES/1_Population/WPP2019_POP_F01_1_TOTAL_POPULATION_BOTH_SEXES.xlsx'\n",
        "#s = requests.get(url).content\n",
        "#dfp = pd.read_csv(s)\n",
        "dfp = pd.read_excel(url)\n",
        "dfp.fillna(0)\n",
        "#dfp.info()\n",
        "#dfp.describe\n",
        "dfp.drop(dfp.columns[[0,1,2,3,4,5,6]], axis = 1, inplace = True)\n",
        "data = dfp.values\n",
        "\n",
        "yrdt = data[304,:]\n",
        "#1950-2020 *(US population)\n",
        "x = np.arange(1950, 2021,1.0)\n",
        "y = np.arange(1950, 2021,1.0)\n",
        "for i in range(len(x)): \n",
        "  y[i] = yrdt[i]\n",
        "\n",
        "pn = np.polyfit(x, y, 2)\n",
        "newy=np.polyval(pn,2022)\n",
        "plt.plot(x,y,label='original')\n",
        "print(round(newy))\n",
        "yn = np.polyval(pn,x)\n",
        "plt.plot(x,yn,label='fitted')\n",
        "plt.legend(loc=\"upper left\")"
      ],
      "metadata": {
        "colab": {
          "base_uri": "https://localhost:8080/",
          "height": 300
        },
        "id": "yqBV0sQMT2aV",
        "outputId": "ad5121aa-238f-4137-ff4d-a6d5af582197"
      },
      "execution_count": 143,
      "outputs": [
        {
          "output_type": "stream",
          "name": "stdout",
          "text": [
            "339473\n"
          ]
        },
        {
          "output_type": "execute_result",
          "data": {
            "text/plain": [
              "<matplotlib.legend.Legend at 0x7fb7ea6a9890>"
            ]
          },
          "metadata": {},
          "execution_count": 143
        },
        {
          "output_type": "display_data",
          "data": {
            "text/plain": [
              "<Figure size 432x288 with 1 Axes>"
            ],
            "image/png": "[encoded data removed]"
          },
          "metadata": {
            "needs_background": "light"
          }
        }
      ]
    }
  ]
}