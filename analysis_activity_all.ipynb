{
  "nbformat": 4,
  "nbformat_minor": 0,
  "metadata": {
    "colab": {
      "name": "analysis_activity_all.ipynb",
      "provenance": [],
      "collapsed_sections": [],
      "authorship_tag": "ABX9TyN4TgZDabmiUfu2xtEb8hpD",
      "include_colab_link": true
    },
    "kernelspec": {
      "name": "python3",
      "display_name": "Python 3"
    },
    "language_info": {
      "name": "python"
    }
  },
  "cells": [
    {
      "cell_type": "markdown",
      "metadata": {
        "id": "view-in-github",
        "colab_type": "text"
      },
      "source": [
        "<a href=\"https://colab.research.google.com/github/kvmkrao/cdml/blob/master/analysis_activity_all.ipynb\" target=\"_parent\"><img src=\"https://colab.research.google.com/assets/colab-badge.svg\" alt=\"Open In Colab\"/></a>"
      ]
    },
    {
      "cell_type": "code",
      "execution_count": null,
      "metadata": {
        "colab": {
          "base_uri": "https://localhost:8080/"
        },
        "id": "1IwVArz5DuGE",
        "outputId": "36243826-c58a-4d43-ce16-0441fae66276"
      },
      "outputs": [
        {
          "output_type": "stream",
          "name": "stdout",
          "text": [
            "Drive already mounted at /content/drive/; to attempt to forcibly remount, call drive.mount(\"/content/drive/\", force_remount=True).\n",
            "(68, 7)\n",
            "(68, 42)\n",
            "(68, 35)\n",
            "(68, 43)\n",
            "(68, 36)\n",
            "(68, 33)\n",
            "(68, 32)\n",
            "check the results in /content/drive/MyDrive/COURSES/EA2/EA2-Colab/Analysis/Activity/class_score.xlsx\n",
            "(136, 13)\n"
          ]
        },
        {
          "output_type": "stream",
          "name": "stderr",
          "text": [
            "/usr/local/lib/python3.7/dist-packages/pandas/core/indexes/base.py:2955: RuntimeWarning: '<' not supported between instances of 'tuple' and 'int', sort order is undefined for incomparable objects\n",
            "  return left.union(right, sort=sort)\n"
          ]
        }
      ],
      "source": [
        "import pandas as pd\n",
        "from google.colab import drive\n",
        "import numpy as np\n",
        "import os\n",
        "drive.mount('/content/drive/')\n",
        "home = \"MyDrive/COURSES/EA2/EA2-Colab\"\n",
        "\n",
        "\n",
        "fo = [\"2022-03-10\",\"2022-03-29\",\"2022-03-31\",\"2022-04-05\",\"2022-04-07_Euler\",\"2022-04-12\",\"2022-04-14-Exam3_Practice\"]\n",
        "temp = np.zeros([68,len(fo)])\n",
        "#print(len(fo))\n",
        "\n",
        "ii = 0 \n",
        "for i in fo: \n",
        "  fxls = f\"{home}/Analysis/Activity/{i}.xlsx\"\n",
        "  data = pd.read_excel(fxls,nrows=68)\n",
        "  print(data.shape)\n",
        "  df = data.values\n",
        "  #print (data.info)\n",
        "\n",
        "  rows = int(len(data)) # no of rows\n",
        "  cols = int(len(data.columns)) # no of rows\n",
        "\n",
        "  dif = data.to_numpy()\n",
        "  dif1 = data.to_numpy()\n",
        "  for col in range(1,cols-2):\n",
        "    dif1[:,col] = dif[:,col+1] - dif[:,col]\n",
        "\n",
        "  # find maximum changes done to the file by a student \n",
        "  maxchgs = 0\n",
        "  for row in range(rows):\n",
        "    ic = 0 \n",
        "    for col in range(1,cols-1):\n",
        "      if abs(dif1[row,col]) > 0: ic = ic +1 \n",
        "      if(ic > maxchgs): maxchgs = ic \n",
        "\n",
        "  for row in range(rows):\n",
        "    sum1 = 0; ic = 0 \n",
        "    for col in range(1,cols-1):\n",
        "      sum1 = sum1 + abs(dif1[row,col])\n",
        "      if abs(dif1[row,col]) > 0: ic = ic +1 \n",
        "    if (ic > 0 or abs(sum1) >0) : \n",
        "      temp[row,ii] = 80+int(20*abs(ic/maxchgs))\n",
        "\n",
        "  res1 =pd.DataFrame(dif1[:,0])\n",
        "  ii = ii +1\n",
        "\n",
        "res2 =pd.DataFrame(temp) \n",
        "dfn  =pd.concat([res1, res2], axis=1)\n",
        "fo.insert(0, \"Email\")\n",
        "dfn.columns = fo\n",
        "#print(dfn)\n",
        "out=f\"{home}/Analysis/Activity/class_score.xlsx\"\n",
        "dfn.to_excel(out,index = False)\n",
        "print(f\"check the results in {out}\")\n",
        "\n",
        "exam=f\"{home}/Analysis/Grade-Spring2022.xlsx\"\n",
        "col = [\"LastName\",\"FirstName\",\"StudentID\", \"Exam1[10]\", \"Exam2[10]\"]\n",
        "dfexam =pd.read_excel(exam,names=col,dtype=str)\n",
        "\n",
        "#print(dfexam.shape)\n",
        "#print(dfexam['Email'])\n",
        "dfn1  =pd.concat([dfn,dfexam], axis=1,sort=False)\n",
        "out=f\"{home}/Analysis/Activity/class_score_all.xlsx\"\n",
        "dfn1.to_excel(out,index = False)\n",
        "print(dfn1.shape)\n",
        "\n",
        "# Left Join\n",
        "#merge_result = dfexam.merge(dfn, left_index=False, right_index=False)\n",
        "#lj_df = dfn.merge(dfexam, how=\"left\", on=\"Email\")\n",
        "#out=f\"{home}/Analysis/Activity/class_score_all.xlsx\"\n",
        "#lj_df.to_excel(out)\n",
        "#print(merge_result)\n",
        "#out=f\"{home}/Analysis/Activity/class_score_all.xlsx\"\n",
        "#merge_result.to_excel(out)\n"
      ]
    },
    {
      "cell_type": "code",
      "source": [
        "\n"
      ],
      "metadata": {
        "id": "xrzwlkhkPJfx"
      },
      "execution_count": null,
      "outputs": []
    }
  ]
}